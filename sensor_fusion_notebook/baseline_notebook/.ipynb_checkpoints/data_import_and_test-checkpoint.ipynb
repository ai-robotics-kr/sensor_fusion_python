{
 "cells": [
  {
   "cell_type": "code",
   "execution_count": 6,
   "id": "459cd41e",
   "metadata": {},
   "outputs": [],
   "source": [
    "import numpy as np\n",
    "import matplotlib.pyplot as plt\n",
    "import pykitti\n",
    "import sys\n",
    "\n",
    "%matplotlib inline\n",
    "np.random.seed(777)"
   ]
  },
  {
   "cell_type": "markdown",
   "id": "d22b27ea",
   "metadata": {},
   "source": [
    "## Import Data"
   ]
  },
  {
   "cell_type": "code",
   "execution_count": 13,
   "id": "b1e548ce",
   "metadata": {},
   "outputs": [],
   "source": [
    "base_dir = \"/mnt/c/Users/tge13/Downloads/\"\n",
    "\n",
    "gt_trajectory_xyz = np.loadtxt( base_dir + 'gt_trajectory_xyz.csv', delimiter=\",\", dtype=np.float32).T\n",
    "obs_trajectory_xyz = np.loadtxt( base_dir + 'obs_trajectory_xyz.csv', delimiter=\",\", dtype=np.float32).T\n",
    "\n",
    "gt_forward_velocities = np.loadtxt( base_dir + 'gt_forward_velocities.csv', delimiter=\",\", dtype=np.float32).T\n",
    "obs_forward_velocities = np.loadtxt( base_dir + 'obs_forward_velocities.csv', delimiter=\",\", dtype=np.float32).T\n",
    "\n",
    "gt_yaw_rates = np.loadtxt( base_dir + 'gt_yaw_rates.csv', delimiter=\",\", dtype=np.float32).T\n",
    "obs_yaw_rates = np.loadtxt( base_dir + 'obs_yaw_rates.csv', delimiter=\",\", dtype=np.float32).T\n",
    "\n",
    "gt_yaws = np.loadtxt( base_dir + 'gt_yaws.csv', delimiter=\",\", dtype=np.float32).T"
   ]
  },
  {
   "cell_type": "markdown",
   "id": "c448ed19",
   "metadata": {},
   "source": [
    "## Initialize variables"
   ]
  },
  {
   "cell_type": "code",
   "execution_count": 25,
   "id": "702b7b4e",
   "metadata": {},
   "outputs": [],
   "source": [
    "N = gt_yaws.shape[0]\n",
    "xy_obs_noise_std = 5.0\n",
    "initial_yaw_std = np.pi\n",
    "yaw_rate_noise_std = 0.02\n",
    "forward_velocity_noise_std = 0.3"
   ]
  },
  {
   "cell_type": "code",
   "execution_count": 26,
   "id": "80cecffa",
   "metadata": {},
   "outputs": [],
   "source": [
    "# initial state x_0\n",
    "initial_yaw = gt_yaws[0] + np.random.normal(0, initial_yaw_std)\n",
    "\n",
    "x = np.array([\n",
    "    obs_trajectory_xyz[0, 0],\n",
    "    obs_trajectory_xyz[1, 0],\n",
    "    initial_yaw\n",
    "])"
   ]
  },
  {
   "cell_type": "code",
   "execution_count": 27,
   "id": "6fdd374f",
   "metadata": {},
   "outputs": [],
   "source": [
    "# covariance for initial state estimation error (Sigma_0)\n",
    "\n",
    "P = np.array([\n",
    "    [xy_obs_noise_std ** 2., 0., 0.],\n",
    "    [0., xy_obs_noise_std ** 2., 0.],\n",
    "    [0., 0., initial_yaw_std ** 2.]\n",
    "])"
   ]
  },
  {
   "cell_type": "markdown",
   "id": "4b2a4587",
   "metadata": {},
   "source": [
    "### Prepare measuerment error covariance Q"
   ]
  },
  {
   "cell_type": "code",
   "execution_count": 28,
   "id": "ad2dff7e",
   "metadata": {},
   "outputs": [],
   "source": [
    "Q = np.array([\n",
    "    [xy_obs_noise_std ** 2., 0.],\n",
    "    [0., xy_obs_noise_std ** 2.]\n",
    "])"
   ]
  },
  {
   "cell_type": "markdown",
   "id": "2f761bf0",
   "metadata": {},
   "source": [
    "### Prepare state transition noise covariance R"
   ]
  },
  {
   "cell_type": "code",
   "execution_count": 29,
   "id": "96217100",
   "metadata": {},
   "outputs": [],
   "source": [
    "R = np.array([\n",
    "    [forward_velocity_noise_std ** 2., 0., 0.],\n",
    "    [0., forward_velocity_noise_std ** 2., 0.],\n",
    "    [0., 0., yaw_rate_noise_std ** 2.]\n",
    "])"
   ]
  },
  {
   "cell_type": "markdown",
   "id": "9e7995bc",
   "metadata": {},
   "source": [
    "### Prepare Filter routine"
   ]
  },
  {
   "cell_type": "code",
   "execution_count": 30,
   "id": "ff4c2735",
   "metadata": {},
   "outputs": [],
   "source": [
    "# array to store estimated 2d pose [x, y, theta]\n",
    "mu_x = [x[0],]\n",
    "mu_y = [x[1],]\n",
    "mu_theta = [x[2],]\n",
    "\n",
    "# array to store estimated error variance of 2d pose\n",
    "var_x = [P[0, 0],]\n",
    "var_y = [P[1, 1],]\n",
    "var_theta = [P[2, 2],]\n",
    "\n",
    "t_last = 0."
   ]
  },
  {
   "cell_type": "code",
   "execution_count": null,
   "id": "b5509696",
   "metadata": {},
   "outputs": [],
   "source": [
    "# initialize Kalman filter\n",
    "kf = EKF(x, P)"
   ]
  }
 ],
 "metadata": {
  "kernelspec": {
   "display_name": "Python 3 (ipykernel)",
   "language": "python",
   "name": "python3"
  },
  "language_info": {
   "codemirror_mode": {
    "name": "ipython",
    "version": 3
   },
   "file_extension": ".py",
   "mimetype": "text/x-python",
   "name": "python",
   "nbconvert_exporter": "python",
   "pygments_lexer": "ipython3",
   "version": "3.8.10"
  }
 },
 "nbformat": 4,
 "nbformat_minor": 5
}
